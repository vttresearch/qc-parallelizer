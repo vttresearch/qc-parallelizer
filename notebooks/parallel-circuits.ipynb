{
 "cells": [
  {
   "cell_type": "markdown",
   "metadata": {},
   "source": [
    "## Parallel Circuits notebook\n",
    "\n",
    "This notebook describes the `qc_parallelizer` module, its usage in the context of an example, as\n",
    "well as why the module is useful."
   ]
  },
  {
   "cell_type": "markdown",
   "metadata": {},
   "source": [
    "### A. Motivation\n",
    "\n",
    "In certain quantum computing workloads, it can be the case that there are several smaller\\*,\n",
    "independent\\*\\* quantum circuits that the user wishes to run, to for instance evaluate results in\n",
    "some parameter space. Because of the independence, the user might not care about the execution order\n",
    "or other practicalities related to how the circuits are run.\n",
    "\n",
    "With existing, commonly-used tooling, executing such a set of circuits can lead to a rather naive\n",
    "and unoptimized setting, where each circuit is run strictly sequentially. With the introduction\n",
    "of larger QPU architectures with more qubits, this becomes increasingly wasteful &mdash; especially\n",
    "if there is overhead in circuit execution, e.g. in uploading circuit data to the control electronics\n",
    "&mdash; since only a part of the chip is in use at once.\n",
    "\n",
    "The `qc_parallelizer` module allows the user to transform the list of circuits into larger, combined\n",
    "circuits, that pack as many user-defined circuits as the QPU can natively process. It provides a\n",
    "simple set of functions for performing this transformation as well as executing the circuits in a\n",
    "way that makes parallelization invisible to the user, by returning results from each individual\n",
    "circuit separately.\n",
    "\n",
    "Ideally, the user need not make any adjustments in their code &mdash; the module is intended to work\n",
    "as a direct replacement/addition for `backend.run()`.\n",
    "\n",
    "*) Low circuit width, where the number of utilized qubits << number of available qubits.<br>\n",
    "**) Circuits that do not share qubits or depend on results from each other."
   ]
  },
  {
   "cell_type": "markdown",
   "metadata": {},
   "source": [
    "### B. Limitations\n",
    "\n",
    "This technique comes with some limitations and drawbacks:\n",
    "- **Crosstalk**: a very densely utilized backend will probably contain physically neighboring qubits\n",
    "  that do not share any operations virtually. However, since physical coupling is fixed, slight\n",
    "  errors can be introduced between qubits that should not couple. This can be avoided, but it comes\n",
    "  at a cost of less dense packing, which leads to more circuits, which leads to longer execution\n",
    "  times.\n",
    "- **Limited parallelization due to limited connectivity**: two circuits do _not_ fit onto the same\n",
    "  backend automatically if they collectively use less qubits than what the backend supports. The\n",
    "  backend must also support coupling between qubits where it is needed, since introducing swap\n",
    "  operations within circuits has costs that outweigh the benefits (namely, lower execution time) of\n",
    "  parallelization."
   ]
  },
  {
   "cell_type": "markdown",
   "metadata": {},
   "source": [
    "### C. General operation diagram\n",
    "\n",
    "The diagram below describes the general operation of the parallelizer. The light blue boxes in the\n",
    "lower half correspond to functions that the `qc_parallelizer` module exposes as its public\n",
    "interface.\n",
    "\n",
    "![Parallelizer operation diagram](./parallelizer-full.drawio.png)"
   ]
  },
  {
   "cell_type": "markdown",
   "metadata": {},
   "source": [
    "### 1. Environment and dependencies\n",
    "\n",
    "> **Note on import styles:** This notebook does not import anything into global context without a\n",
    "  prefix (i.e. the `from ... import ...` kind) to clarify which objects and functions come from\n",
    "  which modules.\n",
    "\n",
    "The module is closely tied to Qiskit and depends on it. Consequently, circuits must also be built\n",
    "with Qiskit's `QuantumCircuit` model. Furthermore, we use IQM's quantum computer backends, as well\n",
    "as Matplotlib for plots. The full list of dependencies is specified in the project's\n",
    "`pyproject.toml` file.\n",
    "\n",
    "With e.g. Conda, one can easily set up an environment with the following commands. Make sure to run\n",
    "them from the project's root directory.\n",
    "\n",
    "```bash\n",
    "conda create --name parallelizer python=3.10 pip # Note the Python version!\n",
    "conda activate parallelizer\n",
    "pip install .[notebooks]\n",
    "```\n",
    "\n",
    "Once this is set up, we can import these packages for usage."
   ]
  },
  {
   "cell_type": "code",
   "execution_count": null,
   "metadata": {},
   "outputs": [],
   "source": [
    "import iqm.qiskit_iqm as iqm\n",
    "import matplotlib.pyplot as plt\n",
    "import qiskit\n",
    "\n",
    "print(f\"Qiskit version is {qiskit.version.get_version_info()}!\")"
   ]
  },
  {
   "cell_type": "markdown",
   "metadata": {},
   "source": [
    "Below we also import the module itself. This makes the provided functionality accessible under the\n",
    "`parallelizer` name."
   ]
  },
  {
   "cell_type": "code",
   "execution_count": null,
   "metadata": {},
   "outputs": [],
   "source": [
    "import qc_parallelizer as parallelizer"
   ]
  },
  {
   "cell_type": "markdown",
   "metadata": {},
   "source": [
    "Since we are dealing with lists of circuits in this notebook, we also define convenient helper\n",
    "functions for drawing multiple circuits and histograms into one plot. Note the `kwargs` parameter,\n",
    "which lets us pass parameters to the underlying calls to the draw functions. The plots are also\n",
    "drawn with a non-default DPI of 300, which makes larger plots clearer (but larger)."
   ]
  },
  {
   "cell_type": "code",
   "execution_count": null,
   "metadata": {},
   "outputs": [],
   "source": [
    "def plot_circuits(circuits, figsize=None, **kwargs):\n",
    "    if len(circuits) > 0 and not isinstance(circuits[0], list):\n",
    "        circuits = [circuits]\n",
    "    nrows, ncols = len(circuits), max(len(row) for row in circuits)\n",
    "    fig, axs = plt.subplots(nrows=nrows, ncols=ncols, dpi=300, figsize=figsize)\n",
    "    circuit_index = 0\n",
    "    for i, row in enumerate(circuits):\n",
    "        for j, circuit in enumerate(row):\n",
    "            ax = (\n",
    "                axs[i, j]\n",
    "                if nrows > 1 and ncols > 1\n",
    "                else axs[j]\n",
    "                if ncols > 1\n",
    "                else axs[i]\n",
    "                if nrows > 1\n",
    "                else axs\n",
    "            )\n",
    "            circuit.draw(output=\"mpl\", style=\"clifford\", ax=ax, **kwargs)\n",
    "            ax.set_title(circuit.name or f\"Circuit {circuit_index}\")\n",
    "            circuit_index += 1\n",
    "    plt.tight_layout()\n",
    "    plt.show()\n",
    "\n",
    "\n",
    "def plot_histograms(counts, figsize=None, **kwargs):\n",
    "    fig, axs = plt.subplots(nrows=1, ncols=len(counts), dpi=300, figsize=figsize)\n",
    "    for i, count_dict in enumerate(counts):\n",
    "        ax = axs[i] if len(counts) > 1 else axs\n",
    "        qiskit.visualization.plot_histogram(count_dict, ax=ax, **kwargs)\n",
    "        ax.set_title(f\"Histogram {i}\")\n",
    "    plt.tight_layout()\n",
    "    plt.show()"
   ]
  },
  {
   "cell_type": "markdown",
   "metadata": {},
   "source": [
    "### 2. Define example circuits\n",
    "\n",
    "In the absence of a real-world example, we construct four simple quantum circuits, two with a\n",
    "single qubit and two with two qubits. The last circuit is more special, in that it uses named\n",
    "classical registers &mdash; this is to demonstrate how the parallelizer preserves name information\n",
    "through transformations. We also demonstrate metadata preservation with the `metadata` argument."
   ]
  },
  {
   "cell_type": "code",
   "execution_count": null,
   "metadata": {},
   "outputs": [],
   "source": [
    "def create_ghz_circuit(num_qubits, metadata=None):\n",
    "    circuit = qiskit.QuantumCircuit(num_qubits, metadata=metadata)\n",
    "    circuit.h(0)\n",
    "    for i in range(1, num_qubits):\n",
    "        circuit.cx(0, i)\n",
    "    circuit.measure_active()\n",
    "    return circuit\n",
    "\n",
    "\n",
    "def create_all_ones_circuit(num_qubits, metadata=None):\n",
    "    circuit = qiskit.QuantumCircuit(num_qubits, metadata=metadata)\n",
    "    circuit.x(list(range(num_qubits)))\n",
    "    circuit.measure_active()\n",
    "    return circuit\n",
    "\n",
    "\n",
    "def create_named_reg_circuit(metadata=None):\n",
    "    qreg = qiskit.QuantumRegister(2)\n",
    "    cregs = [qiskit.ClassicalRegister(1, \"bit_one\"), qiskit.ClassicalRegister(1, \"bit_two\")]\n",
    "    circuit = qiskit.QuantumCircuit(qreg, *cregs, metadata=metadata)\n",
    "    circuit.h(qreg[0])\n",
    "    circuit.cx(qreg[0], qreg[1])\n",
    "    circuit.measure(qreg[0], cregs[0][0])\n",
    "    circuit.measure(qreg[1], cregs[1][0])\n",
    "    return circuit\n",
    "\n",
    "\n",
    "circuits = [\n",
    "    create_ghz_circuit(num_qubits=1, metadata={\"foo\": {\"bar\": \"baz\"}}),\n",
    "    create_all_ones_circuit(num_qubits=1),\n",
    "    create_ghz_circuit(num_qubits=2),\n",
    "    create_named_reg_circuit(metadata={\"tag\": \"hotel-alpha\"}),\n",
    "]"
   ]
  },
  {
   "cell_type": "markdown",
   "metadata": {},
   "source": [
    "Now, with the helper function from above, we can visualize these circuits."
   ]
  },
  {
   "cell_type": "code",
   "execution_count": null,
   "metadata": {},
   "outputs": [],
   "source": [
    "plot_circuits(circuits)"
   ]
  },
  {
   "cell_type": "markdown",
   "metadata": {},
   "source": [
    "### 3. Define and retrieve backend objects\n",
    "\n",
    "The parallelizer does not make much sense without information about the quantum computer backend(s)\n",
    "that we want to work with. We are using `IQMFakeAdonis` to work with a fake IQM backend with five\n",
    "qubits.\n",
    "\n",
    "In this example, we create two instances of the backend to simulate two separate backends.\n",
    "\n",
    "You may also use any `BackendV2`-compatible backend with e.g. `IQMProvider`, which is implemented\n",
    "but commented out below. This notebook does not explain how one can find the device URL and access\n",
    "token, though &mdash; please see other resources for that."
   ]
  },
  {
   "cell_type": "code",
   "execution_count": null,
   "metadata": {},
   "outputs": [],
   "source": [
    "# Use a server backend\n",
    "# import os\n",
    "# os.environ[\"IQM_TOKEN\"] = \"YOUR_TOKEN_HERE\"\n",
    "# backends = [iqm.IQMProvider(\"DEVICE_URL_HERE\").get_backend()]\n",
    "\n",
    "# Use local simulator backends\n",
    "backends = [iqm.IQMFakeAdonis(), iqm.IQMFakeAdonis()]\n",
    "\n",
    "print(f\"{' + '.join(str(backend.num_qubits) for backend in backends)} qubits available.\")"
   ]
  },
  {
   "cell_type": "markdown",
   "metadata": {},
   "source": [
    "### 4. Circuit layouts (inapplicable to this example)\n",
    "\n",
    "Because we are using multiple backends, we cannot provide layout information for parallelization.\n",
    "However, doing so would be easy, as demonstrated below. If the second line was not commented out,\n",
    "the parallelizer would place the two qubits on the circuit at index 2 onto qubits 0 and 2 (QB1 and\n",
    "QB3 on Adonis)."
   ]
  },
  {
   "cell_type": "code",
   "execution_count": null,
   "metadata": {},
   "outputs": [],
   "source": [
    "circuit_2_layout = [0, 2]\n",
    "# circuits[2] = (circuits[2], circuit_2_layout)"
   ]
  },
  {
   "cell_type": "markdown",
   "metadata": {},
   "source": [
    "Generally, each circuit in the circuit list must be either\n",
    "- a `QuantumCircuit` object, in which case the parallelizer chooses a layout for it, or\n",
    "- a `(QuantumCircuit, Layout | dict | list)` tuple, where the second element is the desired layout.\n",
    "  The layout can be in any form that Qiskit would accept. Note that if present, the layout must be\n",
    "  complete, that is, defined for the entire circuit. Providing an incomplete layout will raise an\n",
    "  exception.\n",
    "\n",
    "All given circuits need not have a defined layout &mdash; you may pass any desired mixture of\n",
    "circuits with and without layouts, and the parallelizer will fill in the missing information in a\n",
    "way that it sees fit."
   ]
  },
  {
   "cell_type": "markdown",
   "metadata": {},
   "source": [
    "### 5. Note on transpilation\n",
    "\n",
    "As indicated by the [operation diagram at the top](#c-general-operation-diagram), the parallelizer\n",
    "will transpile circuits so that they are compatible with the assigned backends. However, since there\n",
    "may be situations where the parallelizer should not introduce any optimization or other\n",
    "unnecessary transformations on the circuit, transpilation is only used to a minimal extent &mdash;\n",
    "converting to the native gate set and introducing required SWAP gates, if necessary.\n",
    "\n",
    "Therefore, if you wish to transpile a circuit with optimizations enabled, please run it through\n",
    "`qiskit.transpile()` first. The parallelizer can work with both untranspiled and transpiled\n",
    "circuits. Problems may arise when a circuit has been optimized for one backend but the parallelizer\n",
    "chooses to place it on another &mdash; this is a current technical limitation, and it is recommended\n",
    "to parallelize circuits for only one backend at a time if such optimizations are used."
   ]
  },
  {
   "cell_type": "markdown",
   "metadata": {},
   "source": [
    "### 6. Rearrange the circuits\n",
    "\n",
    "Now that we have circuits and backends defined, we can rearrange our circuits to be ready for\n",
    "parallel execution. The function call for that is very simple, _requiring_ only two parameters\n",
    "(but see below for information on the optional parameters)."
   ]
  },
  {
   "cell_type": "code",
   "execution_count": null,
   "metadata": {},
   "outputs": [],
   "source": [
    "parallel_circuits = parallelizer.rearrange(circuits, backends)"
   ]
  },
  {
   "cell_type": "markdown",
   "metadata": {},
   "source": [
    "> **Note:** calling `parallelizer.rearrange()` in a separate step is not necessary. One may also\n",
    "  pass the original circuit list directly to `parallelizer.execute()` (below), which will perform\n",
    "  any required preprocessing automatically.\n",
    "\n",
    "> **Note #2:** this call is potentially very expensive computationally. The parallelizer must\n",
    "  transpile circuits so that they fit the given backend(s), potentially for several backends, and\n",
    "  potentially several times for multiple backend \"bins\", or collections of circuits for a given\n",
    "  backend. Of course the parallelizer does not intentionally waste CPU cycles, but it is a complex\n",
    "  puzzle with many pieces. Some thought should thus be given to when/how this function is called\n",
    "  when the inputs are large.\n",
    "\n",
    "Now, to see what this did, we can use `.describe()`:"
   ]
  },
  {
   "cell_type": "code",
   "execution_count": null,
   "metadata": {},
   "outputs": [],
   "source": [
    "print(parallelizer.describe(parallel_circuits))"
   ]
  },
  {
   "cell_type": "markdown",
   "metadata": {},
   "source": [
    "That's nice, but how do the circuits look like? We can again use the plotting function to visualize\n",
    "them. The output of the cell below should only contain two circuits that \"host\" all four original\n",
    "circuits."
   ]
  },
  {
   "cell_type": "code",
   "execution_count": null,
   "metadata": {},
   "outputs": [],
   "source": [
    "plot_circuits([circuit for circuits in parallel_circuits.values() for circuit in circuits])"
   ]
  },
  {
   "cell_type": "markdown",
   "metadata": {},
   "source": [
    "The cryptic labels above each circuit identify the circuit, but also provide some information about\n",
    "what they contain. The label is of the form `[hash]-[qubit count]qb-[circuit count]c`.\n",
    "\n",
    "The rearranging step also embeds some metadata into the circuit objects. The user need (and often\n",
    "must) not modify the metadata &mdash; the parallelizer uses it internally to track which circuits\n",
    "have been partitioned and information about the original circuits. The original metadata is also\n",
    "preserved, in case accessing that later is desired.\n",
    "\n",
    "For those that are curious, the commented code in the cell below can be used to view said metadata."
   ]
  },
  {
   "cell_type": "code",
   "execution_count": null,
   "metadata": {},
   "outputs": [],
   "source": [
    "# import json\n",
    "# first_circuit = next(iter(parallel_circuits.values()))[0]\n",
    "# print(json.dumps(first_circuit.metadata, indent=4))"
   ]
  },
  {
   "cell_type": "markdown",
   "metadata": {},
   "source": [
    "Additionally, `parallelizer.rearrange()` accepts a few keyword arguments to control circuit\n",
    "arrangement and parallelization:\n",
    "\n",
    "| Name | Default | Description |\n",
    "| -----| ------- | ----------- |\n",
    "| `packpol` | `DefaultPackingPolicy()` | See the next section. |\n",
    "| `allow_ooe` (allow out-of-order execution) | `True` | If `False`, circuits must be executed strictly in order. A circuit that comes earlier than another circuit is executed latest in parallel with the later circuit. If `True`, the parallelizer is free to reorder circuits to achieve a more optimal packing. |\n",
    "| `transpiler_seed` | `0` | This will be included in numerical seeds that are passed to transpiler stages that may vary from execution to execution. By default, the value is fixed, so results will always be consistent, but that can be changed by passing a random value here. |"
   ]
  },
  {
   "cell_type": "markdown",
   "metadata": {},
   "source": [
    "### 7. Note on packing policies\n",
    "\n",
    "Different packing policies might be desired in different situations. By default, the parallelizer\n",
    "will pack circuits densely, which places qubits solely based on physical coupler constraints, and\n",
    "does not consider unwanted neighbors.\n",
    "\n",
    "Currently, only one packer policy is built in, `DefaultPackingPolicy`. The class constructor accepts\n",
    "one boolean parameter, `allow_nb`, which can be used to control how densely circuits are packed\n",
    "&mdash; when `True`, circuits can be placed wherever there is space and required couplers, and when\n",
    "`False`, the parallelizer must leave at least one unused qubit (i.e. two couplers) between circuits.\n",
    "\n",
    "Custom packer policies can be defined as well. The `packing` module defines an abstract base class,\n",
    "`PackingPolicyBase`, which you may subclass. Please see\n",
    "[the source code](../src/qc_parallelizer/packing.py) for more details and what\n",
    "implementations must define or provide.\n",
    "\n",
    "**Note:** the policy system is still somewhat a work in progress."
   ]
  },
  {
   "cell_type": "markdown",
   "metadata": {},
   "source": [
    "### 8. Execute the circuits\n",
    "\n",
    "Finally, now that we have everything that we need, we may submit the circuit(s) for execution. This\n",
    "is done with another simple function call. If you wish to pass arguments to the underlying call to\n",
    "`backend.run()`, you may pass a dictionary in an argument called `run_args`. Likewise, if you\n",
    "skipped calling `parallelizer.rearrange()`, you can pass arguments to that in `rearrange_args`.\n",
    "\n",
    "Note that **this won't block** for results until we call `parallel_job.results()` later."
   ]
  },
  {
   "cell_type": "code",
   "execution_count": null,
   "metadata": {},
   "outputs": [],
   "source": [
    "parallel_job = parallelizer.execute(parallel_circuits)"
   ]
  },
  {
   "cell_type": "markdown",
   "metadata": {},
   "source": [
    "Now we might have to wait a bit &mdash; one job with the corresponding backend's assigned circuits\n",
    "has been sent to each backend.\n",
    "\n",
    "Eventually, we can fetch and visualize the results with the other helper function from above. We can\n",
    "also verify that the circuit order as well as original metadata is indeed preserved. As shown below,\n",
    "attributes on how the circuits were parallelizer can be read from `parallel_job.info`."
   ]
  },
  {
   "cell_type": "code",
   "execution_count": null,
   "metadata": {},
   "outputs": [],
   "source": [
    "results = parallel_job.results()\n",
    "\n",
    "load_min, load_max, load_avg = (\n",
    "    parallel_job.info.min_circuits_per_backend,\n",
    "    parallel_job.info.max_circuits_per_backend,\n",
    "    parallel_job.info.avg_circuits_per_backend,\n",
    ")\n",
    "num_c, num_b, num_j = (\n",
    "    parallel_job.info.num_circuits,\n",
    "    parallel_job.info.num_backends,\n",
    "    parallel_job.info.num_jobs,\n",
    ")\n",
    "\n",
    "print(\"Execution statistics:\")\n",
    "print(f\" - Min | max | avg backend load:   {load_min} | {load_max} | ~{load_avg} c/b\")\n",
    "print(f\" - Num circuits | backends | jobs: {num_c} | {num_b} | {num_j}\")\n",
    "print(\"Job IDs:\")\n",
    "for job_id in parallel_job.job_id():\n",
    "    print(f\" - {job_id}\")\n",
    "\n",
    "for i, result in enumerate(results):\n",
    "    print(f\"Metadata #{i}:\", result.header.metadata)\n",
    "\n",
    "plot_histograms([result.get_counts() for result in results], figsize=(16, 3))"
   ]
  },
  {
   "cell_type": "markdown",
   "metadata": {},
   "source": [
    "### This concludes the Parallel Circuits notebook!\n",
    "\n",
    "Consider what happened under the hood: our four example circuits were combined into two host\n",
    "circuits and then executed in parallel on two separate backends. However, as a user, you do not\n",
    "deal with any of this directly, and can work with circuits and results in a sequential manner."
   ]
  }
 ],
 "metadata": {
  "kernelspec": {
   "display_name": "parallelizer2",
   "language": "python",
   "name": "python3"
  },
  "language_info": {
   "codemirror_mode": {
    "name": "ipython",
    "version": 3
   },
   "file_extension": ".py",
   "mimetype": "text/x-python",
   "name": "python",
   "nbconvert_exporter": "python",
   "pygments_lexer": "ipython3",
   "version": "3.10.16"
  }
 },
 "nbformat": 4,
 "nbformat_minor": 2
}
